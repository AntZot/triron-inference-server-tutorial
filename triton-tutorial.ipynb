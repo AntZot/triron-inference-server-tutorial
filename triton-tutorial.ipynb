{
 "cells": [
  {
   "cell_type": "markdown",
   "metadata": {},
   "source": [
    "## Что потребуется установить \n",
    "- Docker: https://docs.docker.com/engine/install/\n",
    "- Установить NVIDIA Container Toolkit: https://docs.nvidia.com/datacenter/cloud-native/container-toolkit/latest/install-guide.html\n",
    "- Образы triton infernece server: https://catalog.ngc.nvidia.com/orgs/nvidia/containers/tritonserver/tags\n"
   ]
  },
  {
   "cell_type": "markdown",
   "metadata": {},
   "source": [
    "## Установка NVIDIA Container Toolkit"
   ]
  },
  {
   "cell_type": "code",
   "execution_count": null,
   "metadata": {
    "vscode": {
     "languageId": "shellscript"
    }
   },
   "outputs": [],
   "source": [
    "curl -fsSL https://nvidia.github.io/libnvidia-container/gpgkey | sudo gpg --dearmor -o /usr/share/keyrings/nvidia-container-toolkit-keyring.gpg \\\n",
    "  && curl -s -L https://nvidia.github.io/libnvidia-container/stable/deb/nvidia-container-toolkit.list | \\\n",
    "    sed 's#deb https://#deb [signed-by=/usr/share/keyrings/nvidia-container-toolkit-keyring.gpg] https://#g' | \\\n",
    "    sudo tee /etc/apt/sources.list.d/nvidia-container-toolkit.list"
   ]
  },
  {
   "cell_type": "code",
   "execution_count": null,
   "metadata": {
    "vscode": {
     "languageId": "shellscript"
    }
   },
   "outputs": [],
   "source": [
    "sudo apt-get update"
   ]
  },
  {
   "cell_type": "code",
   "execution_count": null,
   "metadata": {
    "vscode": {
     "languageId": "shellscript"
    }
   },
   "outputs": [],
   "source": [
    "sudo apt-get install -y nvidia-container-toolkit"
   ]
  },
  {
   "cell_type": "markdown",
   "metadata": {},
   "source": [
    "## Установка Triton Inference Server"
   ]
  },
  {
   "cell_type": "code",
   "execution_count": null,
   "metadata": {
    "vscode": {
     "languageId": "shellscript"
    }
   },
   "outputs": [],
   "source": [
    "docker "
   ]
  },
  {
   "cell_type": "markdown",
   "metadata": {},
   "source": []
  },
  {
   "cell_type": "code",
   "execution_count": null,
   "metadata": {
    "vscode": {
     "languageId": "shellscript"
    }
   },
   "outputs": [],
   "source": []
  },
  {
   "cell_type": "markdown",
   "metadata": {},
   "source": [
    "## 1. Базовые понятия triton infernece server"
   ]
  },
  {
   "cell_type": "markdown",
   "metadata": {},
   "source": [
    "## Ансамбль моделей"
   ]
  },
  {
   "cell_type": "markdown",
   "metadata": {},
   "source": [
    "```bash\n",
    "# Expected folder layout\n",
    "model_repository/\n",
    "├── text_detection\n",
    "│   ├── 1\n",
    "│   │   └── model.onnx\n",
    "│   └── config.pbtxt\n",
    "└── text_recognition\n",
    "    ├── 1\n",
    "    │   └── model.onnx\n",
    "    └── config.pbtxt\n",
    "```"
   ]
  },
  {
   "cell_type": "markdown",
   "metadata": {},
   "source": [
    "**config.pbtxt**\n",
    "``` text proto\n",
    "name: \"text_detection\"\n",
    "backend: \"onnxruntime\"\n",
    "max_batch_size : 256\n",
    "input [\n",
    "  {\n",
    "    name: \"input_images:0\"\n",
    "    data_type: TYPE_FP32\n",
    "    dims: [ -1, -1, -1, 3 ]\n",
    "  }\n",
    "]\n",
    "output [\n",
    "  {\n",
    "    name: \"feature_fusion/Conv_7/Sigmoid:0\"\n",
    "    data_type: TYPE_FP32\n",
    "    dims: [ -1, -1, -1, 1 ]\n",
    "  }\n",
    "]\n",
    "output [\n",
    "  {\n",
    "    name: \"feature_fusion/concat_3:0\"\n",
    "    data_type: TYPE_FP32\n",
    "    dims: [ -1, -1, -1, 5 ]\n",
    "  }\n",
    "]\n",
    "```"
   ]
  },
  {
   "cell_type": "markdown",
   "metadata": {},
   "source": [
    "Разберем файл конфигов\n",
    "- name - Необязательно поле, которое обозначает название модели (Note: Название должно совпадать с названием каталога!)\n",
    "- backend/platform - указывает на бэкенд, который используется для запуска модели. Бэкенды, которые поддерживает triton: [Документация](https://docs.nvidia.com/deeplearning/triton-inference-server/archives/triton_inference_server_220/user-guide/docs/backend.html), [Github](https://github.com/triton-inference-server/backend#backends)\n",
    "- max_batch_sizу - Значение, которое указывает на максимальный размер батча, который воспринимает модель\n",
    "- input and output:\n",
    "\n",
    "На примере выше, размерность входных данных соотвествует при max_batch_size > 0:\n",
    "```\n",
    "[-1] + dims = [-1, -1, -1, -1, 3]\n",
    "```\n",
    "Для моделей с max_batch size = 0:\n",
    "```\n",
    "dims = [-1, -1, -1, 3]\n",
    "```"
   ]
  },
  {
   "cell_type": "code",
   "execution_count": null,
   "metadata": {
    "vscode": {
     "languageId": "shellscript"
    }
   },
   "outputs": [],
   "source": []
  }
 ],
 "metadata": {
  "language_info": {
   "name": "python"
  }
 },
 "nbformat": 4,
 "nbformat_minor": 2
}
